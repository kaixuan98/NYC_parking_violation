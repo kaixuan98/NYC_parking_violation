{
 "cells": [
  {
   "cell_type": "markdown",
   "source": [
    "# Data Importing"
   ],
   "metadata": {}
  },
  {
   "cell_type": "code",
   "execution_count": null,
   "source": [
    "import pandas as pd \n",
    "import matplotlib.pyplot as plt \n",
    "import numpy as np \n",
    "import seaborn as sns "
   ],
   "outputs": [],
   "metadata": {}
  },
  {
   "cell_type": "code",
   "execution_count": null,
   "source": [
    "#import data\n",
    "parking_data = pd.read_csv(\"../data/Parking_Violations_Issued_-_Fiscal_Year_2020.csv\")\n",
    "parking_data.head()"
   ],
   "outputs": [],
   "metadata": {}
  },
  {
   "cell_type": "code",
   "execution_count": null,
   "source": [
    "# pick which columns are we using\n",
    "parking_df = parking_data.copy()\n",
    "new_columns = ['Summons Number', 'Plate ID', 'Registration State', 'Plate Type',\n",
    "       'Issue Date', 'Violation Code', 'Vehicle Body Type', 'Vehicle Make',\n",
    "       'Issuing Agency', 'Violation Location',\n",
    "       'Violation Time', 'Violation County',\n",
    "       'Vehicle Color']\n",
    "parking_df = parking_df.drop([c for c in parking_df.columns if c not in new_columns], axis='columns')\n",
    "parking_df.head()"
   ],
   "outputs": [],
   "metadata": {}
  },
  {
   "cell_type": "code",
   "execution_count": null,
   "source": [
    "print(f'Number of Rows: {len(parking_df)}') # 12m"
   ],
   "outputs": [],
   "metadata": {}
  },
  {
   "cell_type": "code",
   "execution_count": null,
   "source": [
    "parking_df.info()"
   ],
   "outputs": [],
   "metadata": {}
  },
  {
   "cell_type": "code",
   "execution_count": null,
   "source": [
    "parking_df.isnull().sum()"
   ],
   "outputs": [],
   "metadata": {}
  },
  {
   "cell_type": "markdown",
   "source": [
    "# Data Cleaning"
   ],
   "metadata": {}
  },
  {
   "cell_type": "markdown",
   "source": [
    "### Drop missing data"
   ],
   "metadata": {}
  },
  {
   "cell_type": "code",
   "execution_count": null,
   "source": [
    "parking_df = parking_df.dropna()\n",
    "print(f\"Number of Rows: {len(parking_df)}\") #7m data"
   ],
   "outputs": [],
   "metadata": {}
  },
  {
   "cell_type": "markdown",
   "source": [
    "### Filter some of the data\n",
    "- Registration Plate: some data are in strings of number ( Example: \"99\")\n",
    "- Plate Type: some data are in strings of numbers( Example : \"999\" )\n",
    "- Violation Code: need to be in range of 1 to 99 "
   ],
   "metadata": {}
  },
  {
   "cell_type": "code",
   "execution_count": null,
   "source": [
    "parking_df = parking_df[(parking_df['Registration State'] != \"99\") & (parking_df['Plate Type'] != \"999\")\n",
    "                 & (parking_df['Violation Code'] != 0) & (parking_df['Violation Code'] < 99) & (parking_df['Vehicle Make'].notnull())\n",
    "                 & (parking_df['Violation Time'].notnull())]\n",
    "\n",
    "print(f'Number of Rows: {len(parking_df)}')"
   ],
   "outputs": [],
   "metadata": {}
  },
  {
   "cell_type": "markdown",
   "source": [
    "### Drop duplicates\n"
   ],
   "metadata": {}
  },
  {
   "cell_type": "code",
   "execution_count": null,
   "source": [
    "parking_df = parking_df.drop_duplicates()\n",
    "print(f'Number of Rows: {len(parking_df)}')"
   ],
   "outputs": [],
   "metadata": {}
  },
  {
   "cell_type": "markdown",
   "source": [
    "### Issue Date(Column) formate to datetime object"
   ],
   "metadata": {}
  },
  {
   "cell_type": "code",
   "execution_count": null,
   "source": [
    "parking_df['Issue Date']= pd.to_datetime(parking_df['Issue Date'])"
   ],
   "outputs": [],
   "metadata": {}
  },
  {
   "cell_type": "code",
   "execution_count": null,
   "source": [
    "parking_df.head()"
   ],
   "outputs": [],
   "metadata": {}
  },
  {
   "cell_type": "markdown",
   "source": [
    "### Change Violation Time to datetime object.\n",
    "1. Make sure that every rows has the formate of HHMMA/P\n",
    "2. Add M to the end of each row \n",
    "3. Convert to datetime"
   ],
   "metadata": {}
  },
  {
   "cell_type": "code",
   "execution_count": null,
   "source": [
    "# clean up the time that does not match the pattern\n",
    "print(f\"Before: {len(parking_df)}\")\n",
    "parking_df = parking_df[parking_df['Violation Time'].str.match(pat = '^[0-1][0-9][0-5][0-9][A|P]$')]\n",
    "print(f\"After: {len(parking_df)}\")"
   ],
   "outputs": [],
   "metadata": {}
  },
  {
   "cell_type": "code",
   "execution_count": null,
   "source": [
    "from datetime import datetime\n",
    "\n",
    "def string_date_format(violation_time):\n",
    "    violation_hr = float(violation_time[0:2])\n",
    "    violation_min = float(violation_time[2:4])\n",
    "    violation_frame = violation_time[4:5]\n",
    "    violation_time = violation_time+\"M\"\n",
    "    if(violation_hr >= 0 and violation_hr <= 12 and (violation_frame == \"P\" or violation_frame == \"A\")):\n",
    "        if(violation_time[0:2] == \"00\" ):\n",
    "            violation_time = \"12\"+violation_time[2:]\n",
    "        violation_time = datetime.strptime(violation_time, '%I%M%p')\n",
    "    else:\n",
    "        violation_time =pd.NaT\n",
    "    return violation_time"
   ],
   "outputs": [],
   "metadata": {}
  },
  {
   "cell_type": "code",
   "execution_count": null,
   "source": [
    "parking_df['Violation Time'] = parking_df['Violation Time'].apply(string_date_format)"
   ],
   "outputs": [],
   "metadata": {}
  },
  {
   "cell_type": "markdown",
   "source": [
    "### Spliting Data into 2020 and 2019"
   ],
   "metadata": {}
  },
  {
   "cell_type": "code",
   "execution_count": null,
   "source": [
    "import datetime \n",
    "\n",
    "parking_df_2020 = parking_df.loc[(parking_df['Issue Date'] >= '2020-01-01') & (parking_df['Issue Date'] <=  '2020-12-31')]\n",
    "parking_df_2019 = parking_df.loc[(parking_df['Issue Date'] >= '2019-01-01') & (parking_df['Issue Date'] <= '2019-12-31')]"
   ],
   "outputs": [],
   "metadata": {}
  },
  {
   "cell_type": "code",
   "execution_count": null,
   "source": [
    "print(f\"2020: {len(parking_df_2020)}\")\n",
    "print(f\"2019: {len(parking_df_2019)}\")"
   ],
   "outputs": [],
   "metadata": {}
  },
  {
   "cell_type": "markdown",
   "source": [
    "# Data Exporting ( Clean Data )\n",
    "Exporting all the clean data so we can do analyst in another notebook"
   ],
   "metadata": {}
  },
  {
   "cell_type": "code",
   "execution_count": null,
   "source": [
    "# parking_df_2020.to_csv('../data/parking_df_2020.csv')\n",
    "# parking_df_2019.to_csv('../data/parking_df_2019.csv')\n",
    "parking_df.to_csv('../data/clean_parking_df.csv')"
   ],
   "outputs": [],
   "metadata": {}
  }
 ],
 "metadata": {
  "orig_nbformat": 4,
  "language_info": {
   "name": "python",
   "version": "3.7.10",
   "mimetype": "text/x-python",
   "codemirror_mode": {
    "name": "ipython",
    "version": 3
   },
   "pygments_lexer": "ipython3",
   "nbconvert_exporter": "python",
   "file_extension": ".py"
  },
  "kernelspec": {
   "name": "python3",
   "display_name": "Python 3.7.10 64-bit ('myenv': conda)"
  },
  "interpreter": {
   "hash": "f5c9dfabb21bd2a91b63810df81acbdc6b5e617e45414f0ef050ca96090c868f"
  }
 },
 "nbformat": 4,
 "nbformat_minor": 2
}